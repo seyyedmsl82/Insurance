{
 "cells": [
  {
   "cell_type": "code",
   "execution_count": 1,
   "id": "481d0648",
   "metadata": {
    "execution": {
     "iopub.execute_input": "2023-06-30T15:59:35.321862Z",
     "iopub.status.busy": "2023-06-30T15:59:35.321502Z",
     "iopub.status.idle": "2023-06-30T15:59:35.331822Z",
     "shell.execute_reply": "2023-06-30T15:59:35.330997Z"
    },
    "papermill": {
     "duration": 0.020616,
     "end_time": "2023-06-30T15:59:35.334158",
     "exception": false,
     "start_time": "2023-06-30T15:59:35.313542",
     "status": "completed"
    },
    "tags": []
   },
   "outputs": [],
   "source": [
    "import pandas as pd"
   ]
  },
  {
   "cell_type": "code",
   "execution_count": 2,
   "id": "addce936",
   "metadata": {
    "execution": {
     "iopub.execute_input": "2023-06-30T15:59:35.348321Z",
     "iopub.status.busy": "2023-06-30T15:59:35.347605Z",
     "iopub.status.idle": "2023-06-30T15:59:35.377386Z",
     "shell.execute_reply": "2023-06-30T15:59:35.376183Z"
    },
    "papermill": {
     "duration": 0.040105,
     "end_time": "2023-06-30T15:59:35.380345",
     "exception": false,
     "start_time": "2023-06-30T15:59:35.340240",
     "status": "completed"
    },
    "tags": []
   },
   "outputs": [],
   "source": [
    "df = pd.read_csv('/kaggle/input/data-visualizatiion/insurance.csv')"
   ]
  },
  {
   "cell_type": "code",
   "execution_count": 3,
   "id": "fd80f942",
   "metadata": {
    "execution": {
     "iopub.execute_input": "2023-06-30T15:59:35.393743Z",
     "iopub.status.busy": "2023-06-30T15:59:35.393339Z",
     "iopub.status.idle": "2023-06-30T15:59:35.426640Z",
     "shell.execute_reply": "2023-06-30T15:59:35.425784Z"
    },
    "papermill": {
     "duration": 0.043112,
     "end_time": "2023-06-30T15:59:35.429424",
     "exception": false,
     "start_time": "2023-06-30T15:59:35.386312",
     "status": "completed"
    },
    "tags": []
   },
   "outputs": [
    {
     "data": {
      "text/html": [
       "<div>\n",
       "<style scoped>\n",
       "    .dataframe tbody tr th:only-of-type {\n",
       "        vertical-align: middle;\n",
       "    }\n",
       "\n",
       "    .dataframe tbody tr th {\n",
       "        vertical-align: top;\n",
       "    }\n",
       "\n",
       "    .dataframe thead th {\n",
       "        text-align: right;\n",
       "    }\n",
       "</style>\n",
       "<table border=\"1\" class=\"dataframe\">\n",
       "  <thead>\n",
       "    <tr style=\"text-align: right;\">\n",
       "      <th></th>\n",
       "      <th>age</th>\n",
       "      <th>sex</th>\n",
       "      <th>bmi</th>\n",
       "      <th>children</th>\n",
       "      <th>smoker</th>\n",
       "      <th>region</th>\n",
       "      <th>charges</th>\n",
       "    </tr>\n",
       "  </thead>\n",
       "  <tbody>\n",
       "    <tr>\n",
       "      <th>0</th>\n",
       "      <td>19</td>\n",
       "      <td>female</td>\n",
       "      <td>27.900</td>\n",
       "      <td>0</td>\n",
       "      <td>yes</td>\n",
       "      <td>southwest</td>\n",
       "      <td>16884.92400</td>\n",
       "    </tr>\n",
       "    <tr>\n",
       "      <th>1</th>\n",
       "      <td>18</td>\n",
       "      <td>male</td>\n",
       "      <td>33.770</td>\n",
       "      <td>1</td>\n",
       "      <td>no</td>\n",
       "      <td>southeast</td>\n",
       "      <td>1725.55230</td>\n",
       "    </tr>\n",
       "    <tr>\n",
       "      <th>2</th>\n",
       "      <td>28</td>\n",
       "      <td>male</td>\n",
       "      <td>33.000</td>\n",
       "      <td>3</td>\n",
       "      <td>no</td>\n",
       "      <td>southeast</td>\n",
       "      <td>4449.46200</td>\n",
       "    </tr>\n",
       "    <tr>\n",
       "      <th>3</th>\n",
       "      <td>33</td>\n",
       "      <td>male</td>\n",
       "      <td>22.705</td>\n",
       "      <td>0</td>\n",
       "      <td>no</td>\n",
       "      <td>northwest</td>\n",
       "      <td>21984.47061</td>\n",
       "    </tr>\n",
       "    <tr>\n",
       "      <th>4</th>\n",
       "      <td>32</td>\n",
       "      <td>male</td>\n",
       "      <td>28.880</td>\n",
       "      <td>0</td>\n",
       "      <td>no</td>\n",
       "      <td>northwest</td>\n",
       "      <td>3866.85520</td>\n",
       "    </tr>\n",
       "  </tbody>\n",
       "</table>\n",
       "</div>"
      ],
      "text/plain": [
       "   age     sex     bmi  children smoker     region      charges\n",
       "0   19  female  27.900         0    yes  southwest  16884.92400\n",
       "1   18    male  33.770         1     no  southeast   1725.55230\n",
       "2   28    male  33.000         3     no  southeast   4449.46200\n",
       "3   33    male  22.705         0     no  northwest  21984.47061\n",
       "4   32    male  28.880         0     no  northwest   3866.85520"
      ]
     },
     "execution_count": 3,
     "metadata": {},
     "output_type": "execute_result"
    }
   ],
   "source": [
    "df.head()"
   ]
  },
  {
   "cell_type": "code",
   "execution_count": 4,
   "id": "25cf730a",
   "metadata": {
    "execution": {
     "iopub.execute_input": "2023-06-30T15:59:35.443215Z",
     "iopub.status.busy": "2023-06-30T15:59:35.442794Z",
     "iopub.status.idle": "2023-06-30T15:59:35.456092Z",
     "shell.execute_reply": "2023-06-30T15:59:35.454909Z"
    },
    "papermill": {
     "duration": 0.023054,
     "end_time": "2023-06-30T15:59:35.458595",
     "exception": false,
     "start_time": "2023-06-30T15:59:35.435541",
     "status": "completed"
    },
    "tags": []
   },
   "outputs": [
    {
     "data": {
      "text/plain": [
       "age         0\n",
       "sex         0\n",
       "bmi         0\n",
       "children    0\n",
       "smoker      0\n",
       "region      0\n",
       "charges     0\n",
       "dtype: int64"
      ]
     },
     "execution_count": 4,
     "metadata": {},
     "output_type": "execute_result"
    }
   ],
   "source": [
    "df.isnull().sum()"
   ]
  },
  {
   "cell_type": "code",
   "execution_count": 5,
   "id": "5559820f",
   "metadata": {
    "execution": {
     "iopub.execute_input": "2023-06-30T15:59:35.473393Z",
     "iopub.status.busy": "2023-06-30T15:59:35.472762Z",
     "iopub.status.idle": "2023-06-30T15:59:35.489736Z",
     "shell.execute_reply": "2023-06-30T15:59:35.488639Z"
    },
    "papermill": {
     "duration": 0.027146,
     "end_time": "2023-06-30T15:59:35.492101",
     "exception": false,
     "start_time": "2023-06-30T15:59:35.464955",
     "status": "completed"
    },
    "tags": []
   },
   "outputs": [
    {
     "data": {
      "text/plain": [
       "age           47\n",
       "sex            2\n",
       "bmi          548\n",
       "children       6\n",
       "smoker         2\n",
       "region         4\n",
       "charges     1337\n",
       "dtype: int64"
      ]
     },
     "execution_count": 5,
     "metadata": {},
     "output_type": "execute_result"
    }
   ],
   "source": [
    "df.nunique()"
   ]
  },
  {
   "cell_type": "code",
   "execution_count": 6,
   "id": "c3eeeed1",
   "metadata": {
    "execution": {
     "iopub.execute_input": "2023-06-30T15:59:35.506962Z",
     "iopub.status.busy": "2023-06-30T15:59:35.506295Z",
     "iopub.status.idle": "2023-06-30T15:59:35.511198Z",
     "shell.execute_reply": "2023-06-30T15:59:35.510361Z"
    },
    "papermill": {
     "duration": 0.015071,
     "end_time": "2023-06-30T15:59:35.513504",
     "exception": false,
     "start_time": "2023-06-30T15:59:35.498433",
     "status": "completed"
    },
    "tags": []
   },
   "outputs": [],
   "source": [
    "import matplotlib.pyplot as plt"
   ]
  },
  {
   "cell_type": "code",
   "execution_count": 7,
   "id": "1b82d006",
   "metadata": {
    "execution": {
     "iopub.execute_input": "2023-06-30T15:59:35.529828Z",
     "iopub.status.busy": "2023-06-30T15:59:35.529367Z",
     "iopub.status.idle": "2023-06-30T15:59:37.104355Z",
     "shell.execute_reply": "2023-06-30T15:59:37.103219Z"
    },
    "papermill": {
     "duration": 1.585194,
     "end_time": "2023-06-30T15:59:37.106901",
     "exception": false,
     "start_time": "2023-06-30T15:59:35.521707",
     "status": "completed"
    },
    "tags": []
   },
   "outputs": [
    {
     "data": {
      "text/html": [
       "<div>\n",
       "<style scoped>\n",
       "    .dataframe tbody tr th:only-of-type {\n",
       "        vertical-align: middle;\n",
       "    }\n",
       "\n",
       "    .dataframe tbody tr th {\n",
       "        vertical-align: top;\n",
       "    }\n",
       "\n",
       "    .dataframe thead th {\n",
       "        text-align: right;\n",
       "    }\n",
       "</style>\n",
       "<table border=\"1\" class=\"dataframe\">\n",
       "  <thead>\n",
       "    <tr style=\"text-align: right;\">\n",
       "      <th></th>\n",
       "      <th>age</th>\n",
       "      <th>sex</th>\n",
       "      <th>bmi</th>\n",
       "      <th>children</th>\n",
       "      <th>smoker</th>\n",
       "      <th>region</th>\n",
       "      <th>charges</th>\n",
       "    </tr>\n",
       "  </thead>\n",
       "  <tbody>\n",
       "    <tr>\n",
       "      <th>0</th>\n",
       "      <td>19</td>\n",
       "      <td>(0, 0)\\t1.0</td>\n",
       "      <td>27.900</td>\n",
       "      <td>0</td>\n",
       "      <td>(0, 1)\\t1.0</td>\n",
       "      <td>(0, 3)\\t1.0</td>\n",
       "      <td>16884.92400</td>\n",
       "    </tr>\n",
       "    <tr>\n",
       "      <th>1</th>\n",
       "      <td>18</td>\n",
       "      <td>(0, 1)\\t1.0</td>\n",
       "      <td>33.770</td>\n",
       "      <td>1</td>\n",
       "      <td>(0, 0)\\t1.0</td>\n",
       "      <td>(0, 2)\\t1.0</td>\n",
       "      <td>1725.55230</td>\n",
       "    </tr>\n",
       "    <tr>\n",
       "      <th>2</th>\n",
       "      <td>28</td>\n",
       "      <td>(0, 1)\\t1.0</td>\n",
       "      <td>33.000</td>\n",
       "      <td>3</td>\n",
       "      <td>(0, 0)\\t1.0</td>\n",
       "      <td>(0, 2)\\t1.0</td>\n",
       "      <td>4449.46200</td>\n",
       "    </tr>\n",
       "    <tr>\n",
       "      <th>3</th>\n",
       "      <td>33</td>\n",
       "      <td>(0, 1)\\t1.0</td>\n",
       "      <td>22.705</td>\n",
       "      <td>0</td>\n",
       "      <td>(0, 0)\\t1.0</td>\n",
       "      <td>(0, 1)\\t1.0</td>\n",
       "      <td>21984.47061</td>\n",
       "    </tr>\n",
       "    <tr>\n",
       "      <th>4</th>\n",
       "      <td>32</td>\n",
       "      <td>(0, 1)\\t1.0</td>\n",
       "      <td>28.880</td>\n",
       "      <td>0</td>\n",
       "      <td>(0, 0)\\t1.0</td>\n",
       "      <td>(0, 1)\\t1.0</td>\n",
       "      <td>3866.85520</td>\n",
       "    </tr>\n",
       "    <tr>\n",
       "      <th>...</th>\n",
       "      <td>...</td>\n",
       "      <td>...</td>\n",
       "      <td>...</td>\n",
       "      <td>...</td>\n",
       "      <td>...</td>\n",
       "      <td>...</td>\n",
       "      <td>...</td>\n",
       "    </tr>\n",
       "    <tr>\n",
       "      <th>1333</th>\n",
       "      <td>50</td>\n",
       "      <td>(0, 1)\\t1.0</td>\n",
       "      <td>30.970</td>\n",
       "      <td>3</td>\n",
       "      <td>(0, 0)\\t1.0</td>\n",
       "      <td>(0, 1)\\t1.0</td>\n",
       "      <td>10600.54830</td>\n",
       "    </tr>\n",
       "    <tr>\n",
       "      <th>1334</th>\n",
       "      <td>18</td>\n",
       "      <td>(0, 0)\\t1.0</td>\n",
       "      <td>31.920</td>\n",
       "      <td>0</td>\n",
       "      <td>(0, 0)\\t1.0</td>\n",
       "      <td>(0, 0)\\t1.0</td>\n",
       "      <td>2205.98080</td>\n",
       "    </tr>\n",
       "    <tr>\n",
       "      <th>1335</th>\n",
       "      <td>18</td>\n",
       "      <td>(0, 0)\\t1.0</td>\n",
       "      <td>36.850</td>\n",
       "      <td>0</td>\n",
       "      <td>(0, 0)\\t1.0</td>\n",
       "      <td>(0, 2)\\t1.0</td>\n",
       "      <td>1629.83350</td>\n",
       "    </tr>\n",
       "    <tr>\n",
       "      <th>1336</th>\n",
       "      <td>21</td>\n",
       "      <td>(0, 0)\\t1.0</td>\n",
       "      <td>25.800</td>\n",
       "      <td>0</td>\n",
       "      <td>(0, 0)\\t1.0</td>\n",
       "      <td>(0, 3)\\t1.0</td>\n",
       "      <td>2007.94500</td>\n",
       "    </tr>\n",
       "    <tr>\n",
       "      <th>1337</th>\n",
       "      <td>61</td>\n",
       "      <td>(0, 0)\\t1.0</td>\n",
       "      <td>29.070</td>\n",
       "      <td>0</td>\n",
       "      <td>(0, 1)\\t1.0</td>\n",
       "      <td>(0, 1)\\t1.0</td>\n",
       "      <td>29141.36030</td>\n",
       "    </tr>\n",
       "  </tbody>\n",
       "</table>\n",
       "<p>1338 rows × 7 columns</p>\n",
       "</div>"
      ],
      "text/plain": [
       "      age            sex     bmi  children         smoker         region  \\\n",
       "0      19    (0, 0)\\t1.0  27.900         0    (0, 1)\\t1.0    (0, 3)\\t1.0   \n",
       "1      18    (0, 1)\\t1.0  33.770         1    (0, 0)\\t1.0    (0, 2)\\t1.0   \n",
       "2      28    (0, 1)\\t1.0  33.000         3    (0, 0)\\t1.0    (0, 2)\\t1.0   \n",
       "3      33    (0, 1)\\t1.0  22.705         0    (0, 0)\\t1.0    (0, 1)\\t1.0   \n",
       "4      32    (0, 1)\\t1.0  28.880         0    (0, 0)\\t1.0    (0, 1)\\t1.0   \n",
       "...   ...            ...     ...       ...            ...            ...   \n",
       "1333   50    (0, 1)\\t1.0  30.970         3    (0, 0)\\t1.0    (0, 1)\\t1.0   \n",
       "1334   18    (0, 0)\\t1.0  31.920         0    (0, 0)\\t1.0    (0, 0)\\t1.0   \n",
       "1335   18    (0, 0)\\t1.0  36.850         0    (0, 0)\\t1.0    (0, 2)\\t1.0   \n",
       "1336   21    (0, 0)\\t1.0  25.800         0    (0, 0)\\t1.0    (0, 3)\\t1.0   \n",
       "1337   61    (0, 0)\\t1.0  29.070         0    (0, 1)\\t1.0    (0, 1)\\t1.0   \n",
       "\n",
       "          charges  \n",
       "0     16884.92400  \n",
       "1      1725.55230  \n",
       "2      4449.46200  \n",
       "3     21984.47061  \n",
       "4      3866.85520  \n",
       "...           ...  \n",
       "1333  10600.54830  \n",
       "1334   2205.98080  \n",
       "1335   1629.83350  \n",
       "1336   2007.94500  \n",
       "1337  29141.36030  \n",
       "\n",
       "[1338 rows x 7 columns]"
      ]
     },
     "execution_count": 7,
     "metadata": {},
     "output_type": "execute_result"
    }
   ],
   "source": [
    "from sklearn.preprocessing import OneHotEncoder, LabelEncoder\n",
    "encoder = OneHotEncoder()\n",
    "\n",
    "for i in([['sex'], ['smoker'], ['region']]):\n",
    "    df[i] = encoder.fit_transform(df[i])\n",
    "df"
   ]
  },
  {
   "cell_type": "code",
   "execution_count": 8,
   "id": "92121917",
   "metadata": {
    "execution": {
     "iopub.execute_input": "2023-06-30T15:59:37.122130Z",
     "iopub.status.busy": "2023-06-30T15:59:37.121742Z",
     "iopub.status.idle": "2023-06-30T15:59:37.931926Z",
     "shell.execute_reply": "2023-06-30T15:59:37.931091Z"
    },
    "papermill": {
     "duration": 0.821036,
     "end_time": "2023-06-30T15:59:37.934718",
     "exception": false,
     "start_time": "2023-06-30T15:59:37.113682",
     "status": "completed"
    },
    "tags": []
   },
   "outputs": [
    {
     "data": {
      "image/png": "[encoded data removed]",
      "text/plain": [
       "<Figure size 1500x1700 with 3 Axes>"
      ]
     },
     "metadata": {},
     "output_type": "display_data"
    }
   ],
   "source": [
    "plt.figure(figsize=(15,17))\n",
    "plt.subplots_adjust(hspace=0.5)\n",
    "\n",
    "for n, ticker in enumerate(df.columns.drop(['charges', 'sex', 'smoker', 'region'])):\n",
    "    ax = plt.subplot(3, 2, n+1)\n",
    "    ax.scatter(df[ticker], df['charges'])\n",
    "    ax.set_title(ticker)\n",
    "plt.show() \n"
   ]
  },
  {
   "cell_type": "code",
   "execution_count": 9,
   "id": "f267a372",
   "metadata": {
    "execution": {
     "iopub.execute_input": "2023-06-30T15:59:37.954849Z",
     "iopub.status.busy": "2023-06-30T15:59:37.953292Z",
     "iopub.status.idle": "2023-06-30T15:59:37.960949Z",
     "shell.execute_reply": "2023-06-30T15:59:37.959811Z"
    },
    "papermill": {
     "duration": 0.020455,
     "end_time": "2023-06-30T15:59:37.963659",
     "exception": false,
     "start_time": "2023-06-30T15:59:37.943204",
     "status": "completed"
    },
    "tags": []
   },
   "outputs": [],
   "source": [
    "X = df.drop(['charges', 'children', 'sex', 'smoker', 'region'], axis=1)\n",
    "y = df['charges']"
   ]
  },
  {
   "cell_type": "code",
   "execution_count": 10,
   "id": "fbee1636",
   "metadata": {
    "execution": {
     "iopub.execute_input": "2023-06-30T15:59:37.982386Z",
     "iopub.status.busy": "2023-06-30T15:59:37.981683Z",
     "iopub.status.idle": "2023-06-30T15:59:38.569927Z",
     "shell.execute_reply": "2023-06-30T15:59:38.568795Z"
    },
    "papermill": {
     "duration": 0.600625,
     "end_time": "2023-06-30T15:59:38.572693",
     "exception": false,
     "start_time": "2023-06-30T15:59:37.972068",
     "status": "completed"
    },
    "tags": []
   },
   "outputs": [
    {
     "data": {
      "text/plain": [
       "[('age', 0.3958180199236666), ('bmi', 0.18272996423316185)]"
      ]
     },
     "execution_count": 10,
     "metadata": {},
     "output_type": "execute_result"
    }
   ],
   "source": [
    "from scipy.stats import chi2_contingency\n",
    "import operator\n",
    "\n",
    "pvalue = dict()\n",
    "\n",
    "for i in X.columns:\n",
    "    contigency = pd.crosstab(df[i], df['charges'])\n",
    "    _,p,_,_ = chi2_contingency(contigency)\n",
    "    pvalue[i] = p\n",
    "    \n",
    "sorted_pvalues = sorted(pvalue.items(), key=operator.itemgetter(1), reverse=True)\n",
    "sorted_pvalues"
   ]
  },
  {
   "cell_type": "code",
   "execution_count": 11,
   "id": "430a5ca7",
   "metadata": {
    "execution": {
     "iopub.execute_input": "2023-06-30T15:59:38.592737Z",
     "iopub.status.busy": "2023-06-30T15:59:38.591482Z",
     "iopub.status.idle": "2023-06-30T15:59:38.708775Z",
     "shell.execute_reply": "2023-06-30T15:59:38.707527Z"
    },
    "papermill": {
     "duration": 0.130554,
     "end_time": "2023-06-30T15:59:38.711976",
     "exception": false,
     "start_time": "2023-06-30T15:59:38.581422",
     "status": "completed"
    },
    "tags": []
   },
   "outputs": [],
   "source": [
    "from sklearn.model_selection import train_test_split\n",
    "\n",
    "X_train, X_test, y_train, y_test = train_test_split(X, y, test_size=0.33, random_state=42)"
   ]
  },
  {
   "cell_type": "code",
   "execution_count": 12,
   "id": "850a6991",
   "metadata": {
    "execution": {
     "iopub.execute_input": "2023-06-30T15:59:38.734944Z",
     "iopub.status.busy": "2023-06-30T15:59:38.734011Z",
     "iopub.status.idle": "2023-06-30T15:59:38.745548Z",
     "shell.execute_reply": "2023-06-30T15:59:38.744372Z"
    },
    "papermill": {
     "duration": 0.02449,
     "end_time": "2023-06-30T15:59:38.748269",
     "exception": false,
     "start_time": "2023-06-30T15:59:38.723779",
     "status": "completed"
    },
    "tags": []
   },
   "outputs": [],
   "source": [
    "from sklearn.preprocessing import MinMaxScaler, StandardScaler, normalize\n",
    "\n",
    "sc = StandardScaler()\n",
    "X_train = normalize(X_train)\n",
    "X_test = normalize(X_test)"
   ]
  },
  {
   "cell_type": "code",
   "execution_count": 13,
   "id": "d6302f58",
   "metadata": {
    "execution": {
     "iopub.execute_input": "2023-06-30T15:59:38.768505Z",
     "iopub.status.busy": "2023-06-30T15:59:38.767701Z",
     "iopub.status.idle": "2023-06-30T15:59:39.178898Z",
     "shell.execute_reply": "2023-06-30T15:59:39.177806Z"
    },
    "papermill": {
     "duration": 0.42447,
     "end_time": "2023-06-30T15:59:39.181476",
     "exception": false,
     "start_time": "2023-06-30T15:59:38.757006",
     "status": "completed"
    },
    "tags": []
   },
   "outputs": [],
   "source": [
    "from sklearn.svm import SVR\n",
    "from sklearn.tree import DecisionTreeRegressor\n",
    "from sklearn.ensemble import RandomForestRegressor, GradientBoostingRegressor"
   ]
  },
  {
   "cell_type": "code",
   "execution_count": 14,
   "id": "feeedec1",
   "metadata": {
    "execution": {
     "iopub.execute_input": "2023-06-30T15:59:39.200490Z",
     "iopub.status.busy": "2023-06-30T15:59:39.200088Z",
     "iopub.status.idle": "2023-06-30T15:59:39.206390Z",
     "shell.execute_reply": "2023-06-30T15:59:39.204934Z"
    },
    "papermill": {
     "duration": 0.01856,
     "end_time": "2023-06-30T15:59:39.208753",
     "exception": false,
     "start_time": "2023-06-30T15:59:39.190193",
     "status": "completed"
    },
    "tags": []
   },
   "outputs": [],
   "source": [
    "names = ['svm', 'Decision tree', 'gradiant boosting']\n",
    "\n",
    "classifiers = [SVR(kernel='linear', C=5.1),\n",
    "               DecisionTreeRegressor(max_depth=5),\n",
    "               GradientBoostingRegressor(loss='absolute_error', learning_rate=0.06499999999)]"
   ]
  },
  {
   "cell_type": "code",
   "execution_count": 15,
   "id": "87f88859",
   "metadata": {
    "execution": {
     "iopub.execute_input": "2023-06-30T15:59:39.227525Z",
     "iopub.status.busy": "2023-06-30T15:59:39.227112Z",
     "iopub.status.idle": "2023-06-30T15:59:41.354309Z",
     "shell.execute_reply": "2023-06-30T15:59:41.353008Z"
    },
    "papermill": {
     "duration": 2.139589,
     "end_time": "2023-06-30T15:59:41.356870",
     "exception": false,
     "start_time": "2023-06-30T15:59:39.217281",
     "status": "completed"
    },
    "tags": []
   },
   "outputs": [
    {
     "name": "stdout",
     "output_type": "stream",
     "text": [
      "classifier name: svm \n",
      "classifier score: 7166.957477081565\n",
      "\n",
      "\n",
      "classifier name: svm \n",
      "classifier score: 7146.4441193589355\n",
      "\n",
      "\n",
      "classifier name: svm \n",
      "classifier score: 7713.748256144505\n",
      "\n",
      "\n",
      "classifier name: svm \n",
      "classifier score: 6417.276075512846\n",
      "\n",
      "\n",
      "classifier name: svm \n",
      "classifier score: 7085.437099903136\n",
      "\n",
      "\n",
      "--------------------------------------------------------------\n",
      "classifier name: Decision tree \n",
      "classifier score: 9209.215194481323\n",
      "\n",
      "\n",
      "classifier name: Decision tree \n",
      "classifier score: 9222.231185639486\n",
      "\n",
      "\n",
      "classifier name: Decision tree \n",
      "classifier score: 9398.585182120163\n",
      "\n",
      "\n",
      "classifier name: Decision tree \n",
      "classifier score: 8635.238249175836\n",
      "\n",
      "\n",
      "classifier name: Decision tree \n",
      "classifier score: 9140.968726492474\n",
      "\n",
      "\n",
      "--------------------------------------------------------------\n",
      "classifier name: gradiant boosting \n",
      "classifier score: 6606.315211520477\n",
      "\n",
      "\n",
      "classifier name: gradiant boosting \n",
      "classifier score: 6926.015181228895\n",
      "\n",
      "\n",
      "classifier name: gradiant boosting \n",
      "classifier score: 7396.023015332389\n",
      "\n",
      "\n",
      "classifier name: gradiant boosting \n",
      "classifier score: 6167.802700717502\n",
      "\n",
      "\n",
      "classifier name: gradiant boosting \n",
      "classifier score: 6688.2839290916845\n",
      "\n",
      "\n",
      "--------------------------------------------------------------\n"
     ]
    }
   ],
   "source": [
    "from sklearn.pipeline import make_pipeline\n",
    "from sklearn.metrics import mean_absolute_percentage_error, mean_absolute_error\n",
    "from sklearn.model_selection import KFold\n",
    "\n",
    "mse = mean_absolute_error\n",
    "\n",
    "cv = KFold(n_splits=5, random_state=42 ,shuffle=True)\n",
    "for classifier, name in zip(classifiers, names):\n",
    "    classifier = make_pipeline(sc, classifier)\n",
    "    for tr_i, te_i in cv.split(X, y):\n",
    "        X_train, X_test = X.loc[tr_i], X.loc[te_i]\n",
    "        y_train, y_test = y[tr_i], y[te_i]\n",
    "            \n",
    "        classifier.fit(X_train, y_train)\n",
    "        score = mse(classifier.predict(X_test), y_test)\n",
    "        print(f'classifier name: {name} \\nclassifier score: {score}\\n\\n')\n",
    "    print('--------------------------------------------------------------')\n"
   ]
  },
  {
   "cell_type": "code",
   "execution_count": null,
   "id": "d260ae55",
   "metadata": {
    "papermill": {
     "duration": 0.008641,
     "end_time": "2023-06-30T15:59:41.374693",
     "exception": false,
     "start_time": "2023-06-30T15:59:41.366052",
     "status": "completed"
    },
    "tags": []
   },
   "outputs": [],
   "source": []
  }
 ],
 "metadata": {
  "kernelspec": {
   "display_name": "Python 3",
   "language": "python",
   "name": "python3"
  },
  "language_info": {
   "codemirror_mode": {
    "name": "ipython",
    "version": 3
   },
   "file_extension": ".py",
   "mimetype": "text/x-python",
   "name": "python",
   "nbconvert_exporter": "python",
   "pygments_lexer": "ipython3",
   "version": "3.10.10"
  },
  "papermill": {
   "default_parameters": {},
   "duration": 19.136612,
   "end_time": "2023-06-30T15:59:42.406151",
   "environment_variables": {},
   "exception": null,
   "input_path": "__notebook__.ipynb",
   "output_path": "__notebook__.ipynb",
   "parameters": {},
   "start_time": "2023-06-30T15:59:23.269539",
   "version": "2.4.0"
  }
 },
 "nbformat": 4,
 "nbformat_minor": 5
}
